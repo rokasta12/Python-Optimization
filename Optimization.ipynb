{
  "nbformat": 4,
  "nbformat_minor": 0,
  "metadata": {
    "colab": {
      "name": "Optimization.ipynb",
      "provenance": [],
      "collapsed_sections": [],
      "authorship_tag": "ABX9TyN9RS+/EKWVFwiJXgDEDGXF",
      "include_colab_link": true
    },
    "kernelspec": {
      "name": "python3",
      "display_name": "Python 3"
    }
  },
  "cells": [
    {
      "cell_type": "markdown",
      "metadata": {
        "id": "view-in-github",
        "colab_type": "text"
      },
      "source": [
        "<a href=\"https://colab.research.google.com/github/rokasta12/Python-Optimization/blob/main/Optimization.ipynb\" target=\"_parent\"><img src=\"https://colab.research.google.com/assets/colab-badge.svg\" alt=\"Open In Colab\"/></a>"
      ]
    },
    {
      "cell_type": "code",
      "metadata": {
        "id": "XtgUZV5e91Ea",
        "outputId": "3d430805-724f-4a43-c0d9-87b6a7e837e5",
        "colab": {
          "base_uri": "https://localhost:8080/",
          "height": 459
        }
      },
      "source": [
        "# Importing numpy as np\n",
        "import numpy as np\n",
        " \n",
        "A = np.array([[6, 1, 1],\n",
        "              [4, -2, 5],\n",
        "              [2, 8, 7]])\n",
        " \n",
        "# Rank of a matrix\n",
        "print(\"Rank of A:\", np.linalg.matrix_rank(A))\n",
        " \n",
        "# Trace of matrix A\n",
        "print(\"\\nTrace of A:\", np.trace(A))\n",
        " \n",
        "# Determinant of a matrix\n",
        "print(\"\\nDeterminant of A:\", np.linalg.det(A))\n",
        " \n",
        "# Inverse of matrix A\n",
        "print(\"\\nInverse of A:\\n\", np.linalg.inv(A))\n",
        " \n",
        "print(\"\\nMatrix A raised to power 3:\\n\",\n",
        "           np.linalg.matrix_power(A, 3))\n",
        "\n",
        "###################\n",
        "\n",
        "x = np.array([1,2,3])\n",
        "y = np.array([4,5,6])\n",
        "\n",
        "#Product of two vectors.\n",
        "print(np.dot(x,y))\n",
        "\n",
        "#Transpose of a matrix\n",
        "print(np.transpose(A))\n",
        "\n",
        "#Creating identity matrix \n",
        "print(np.eye(3))\n",
        "\n",
        "\n",
        "#Solve the system of equations 3 * x0 + x1 = 9 and x0 + 2 * x1 = 8:\n",
        "\n",
        "a1= np.array([[3,1], [1,2]])\n",
        "b1 = np.array([9,8])\n",
        "x1 = np.linalg.solve(a1, b1)\n",
        "print(x1)\n",
        "\n",
        "\n",
        "#Eigenvalues\n",
        "\n",
        "results = np.linalg.eig(A)\n",
        "print(results)"
      ],
      "execution_count": null,
      "outputs": [
        {
          "output_type": "stream",
          "text": [
            "Rank of A: 3\n",
            "\n",
            "Trace of A: 11\n",
            "\n",
            "Determinant of A: -306.0\n",
            "\n",
            "Inverse of A:\n",
            " [[ 0.17647059 -0.00326797 -0.02287582]\n",
            " [ 0.05882353 -0.13071895  0.08496732]\n",
            " [-0.11764706  0.1503268   0.05228758]]\n",
            "\n",
            "Matrix A raised to power 3:\n",
            " [[336 162 228]\n",
            " [406 162 469]\n",
            " [698 702 905]]\n",
            "32\n",
            "[[ 6  4  2]\n",
            " [ 1 -2  8]\n",
            " [ 1  5  7]]\n",
            "[[1. 0. 0.]\n",
            " [0. 1. 0.]\n",
            " [0. 0. 1.]]\n",
            "[2. 3.]\n",
            "(array([11.24862343,  5.09285054, -5.34147398]), array([[ 0.24511338,  0.75669314,  0.02645665],\n",
            "       [ 0.40622202, -0.03352363, -0.84078293],\n",
            "       [ 0.88028581, -0.65291014,  0.54072554]]))\n"
          ],
          "name": "stdout"
        }
      ]
    },
    {
      "cell_type": "markdown",
      "metadata": {
        "id": "hrreJQoZAaTQ"
      },
      "source": [
        ""
      ]
    },
    {
      "cell_type": "code",
      "metadata": {
        "id": "LZQSQUZZAb_R"
      },
      "source": [
        ""
      ],
      "execution_count": null,
      "outputs": []
    },
    {
      "cell_type": "code",
      "metadata": {
        "id": "8jce_Ova93ho"
      },
      "source": [
        "\n"
      ],
      "execution_count": null,
      "outputs": []
    }
  ]
}